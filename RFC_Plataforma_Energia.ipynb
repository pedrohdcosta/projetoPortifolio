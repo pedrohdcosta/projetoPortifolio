{
 "cells": [
  {
   "cell_type": "markdown",
   "id": "b02f059d",
   "metadata": {},
   "source": [
    "# RFC: Plataforma de Controle de Consumo de Energia Elétrica com IoT e IA\n",
    "**Autor:** Pedro Henrique Dias da Costa  \n",
    "**Curso:** Engenharia de Software  \n",
    "**Data:** 08/05/2025"
   ]
  },
  {
   "cell_type": "markdown",
   "id": "2e1ede15",
   "metadata": {},
   "source": [
    "## Resumo\n",
    "A plataforma proposta combina hardware IoT e software inteligente para monitorar e controlar o consumo de energia elétrica em residências de forma integrada e escalável. Dispositivos de medição (tomadas inteligentes) capturam leituras de tensão, corrente e potência a cada segundo e as publicam em um broker MQTT seguro. O backend em Go processa e armazena esses dados em um banco de séries temporais, expondo APIs REST que alimentam um frontend responsivo em Vue.js. Os usuários acessam dashboards em tempo real com consumo instantâneo, gráficos comparativos por períodos (diário, semanal e mensal) e projeções de gastos futuros. Um módulo de IA em Python aplica modelos preditivos para identificar padrões de consumo, gerar relatórios automáticos e oferecer recomendações personalizadas de economia."
   ]
  },
  {
   "cell_type": "markdown",
   "id": "5d918f47",
   "metadata": {},
   "source": [
    "## Contexto\n",
    "O consumo de energia tem aumentado de forma contínua, elevando custos e impactos ambientais. Ferramentas existentes fragmentam dados ou carecem de análises avançadas, dificultando que residências adotem hábitos mais eficientes. Esta solução une coleta de dados precisa, visualizações dinâmicas e inteligência artificial para empoderar usuários na gestão energética."
   ]
  },
  {
   "cell_type": "markdown",
   "id": "5495cd81",
   "metadata": {},
   "source": [
    "## Justificativa\n",
    "Com a crescente demanda por energia e os desafios de sustentabilidade, torna-se imprescindível adotar sistemas que ofereçam visibilidade e controle detalhados do consumo domiciliar. Ao integrar tomadas inteligentes com um broker MQTT, backend em Go e frontend em Vue.js, a plataforma garante baixo custo de implantação e alta confiabilidade. O módulo de IA eleva o projeto ao analisar comportamentos de uso, prever picos de demanda e sugerir ações de economia em linguagem natural. Este conjunto de tecnologias demonstra como a engenharia de software pode promover eficiência energética e redução de custos, contribuindo para práticas mais sustentáveis e conscientes."
   ]
  },
  {
   "cell_type": "markdown",
   "id": "21d09986",
   "metadata": {},
   "source": [
    "## Objetivos\n",
    "- **Monitoramento em Tempo Real:** Coletar dados de consumo por meio de tomadas inteligentes.\n",
    "- **Visualização e Projeção de Dados:** Exibir históricos e projeções de consumo e gastos via dashboards interativos.\n",
    "- **Integração com IA:** Desenvolver um módulo que utilize APIs de LLM e técnicas de machine learning para fornecer análises e recomendações.\n",
    "- **Automação e Alertas:** Notificar os usuários sobre picos de consumo e oportunidades de economia.\n",
    "- **Escalabilidade e Integração:** Construir uma arquitetura robusta que possibilite a expansão e a integração de novos dispositivos e funcionalidades."
   ]
  },
  {
   "cell_type": "markdown",
   "id": "5c9bb558",
   "metadata": {},
   "source": [
    "## Escopo\n",
    "- Cadastro e Gerenciamento de Dispositivos IoT\n",
    "- Coleta, Armazenamento e Análise de Dados de Consumo\n",
    "- Visualização dos Dados via Dashboards\n",
    "- Módulo de IA com relatórios e recomendações\n",
    "- Sistema de Alertas e Notificações\n",
    "- Interface Web Responsiva"
   ]
  },
  {
   "cell_type": "markdown",
   "id": "9aac242e",
   "metadata": {},
   "source": [
    "## Arquitetura e Tecnologias\n",
    "**Frontend:** Vue.js  \n",
    "**Backend:** Go (REST API)  \n",
    "**Comunicação IoT:** Broker MQTT (Mosquitto ou EMQX)\n",
    "**IA:** Python (APIs de LLM)\n",
    "**Bancos de Dados:** PostgreSQL, InfluxDB/TimescaleDB, Redis\n",
    "**Containerização:** Docker, Kubernetes\n",
    "**CI/CD:** GitHub Actions ou Jenkins\n",
    "**Monitoramento:** Prometheus, Grafana, Sentry"
   ]
  },
  {
   "cell_type": "markdown",
   "id": "d781e773",
   "metadata": {},
   "source": [
    "## Plano de Execução\n",
    "1. Planejamento e Definição de Requisitos\n",
    "2. Desenvolvimento do Backend e Integração IoT\n",
    "3. Desenvolvimento do Frontend\n",
    "4. Desenvolvimento do Módulo de IA\n",
    "5. Testes e Validação\n",
    "6. Deploy e Monitoramento"
   ]
  },
  {
   "cell_type": "markdown",
   "id": "4f019df1",
   "metadata": {},
   "source": [
    "## Riscos e Dependências\n",
    "- Integração de IoT depende da confiabilidade dos dispositivos e da rede\n",
    "- Performance da IA depende dos modelos e das APIs externas\n",
    "- Escalabilidade exige arquitetura distribuída bem planejada\n",
    "- Segurança deve ser garantida via criptografia e boas práticas de autenticação"
   ]
  },
  {
   "cell_type": "markdown",
   "id": "e2c5b959",
   "metadata": {},
   "source": [
    "## Requisitos Funcionais\n",
    "- RF01: Cadastro/Login de usuários com perfis distintos\n",
    "- RF02: Gerenciamento de tomadas inteligentes\n",
    "- RF03: Exibição em tempo real de consumo\n",
    "- RF04: Histórico e projeções via dashboard\n",
    "- RF05: Geração de alertas e notificações\n",
    "- RF06: Controle remoto via MQTT\n",
    "- RF07: IA com análises preditivas e relatórios"
   ]
  },
  {
   "cell_type": "markdown",
   "id": "f33fda01",
   "metadata": {},
   "source": [
    "## Requisitos Não Funcionais\n",
    "- RNF01: Suporte a múltiplos dispositivos com baixa latência\n",
    "- RNF02: Criptografia de ponta a ponta (TLS)\n",
    "- RNF03: Código limpo com SOLID e testes > 80%\n",
    "- RNF04: Monitoramento contínuo e alta disponibilidade\n",
    "- RNF05: Interface responsiva e acessível (WCAG 2.1 AA)"
   ]
  },
  {
   "cell_type": "markdown",
   "id": "5245bd2a",
   "metadata": {},
   "source": [
    "## Conclusão\n",
    "Esta proposta alia tecnologias modernas (Vue.js, Go, Python, Docker, Kubernetes) a uma abordagem inovadora que integra IoT e inteligência artificial. O projeto atende aos requisitos do portfólio, demonstrando boas práticas de desenvolvimento, escalabilidade e segurança, posicionando-se como uma solução robusta e diferenciada para o controle inteligente do consumo de energia."
   ]
  },
  {
   "cell_type": "markdown",
   "id": "251d8dd1",
   "metadata": {},
   "source": [
    "Rodar o modelo C4 - principalmente o 1(pessoas) e 3(serviço)\n",
    "\n",
    "diagrama de casos de uso\n",
    "\n",
    "diagrama de classe ou sequencia (analizar) - talvez os 2\n",
    "\n",
    "analizar os serviços de nuvem para armazenamento\n"
   ]
  }
 ],
 "metadata": {
  "language_info": {
   "name": "python"
  }
 },
 "nbformat": 4,
 "nbformat_minor": 5
}
