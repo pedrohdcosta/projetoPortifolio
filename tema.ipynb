{
 "cells": [
  {
   "cell_type": "markdown",
   "metadata": {},
   "source": [
    "Ideias de temas:\n",
    "\n",
    "- Um sistema de gestão de energia eletrica (exemplo de gastos)"
   ]
  }
 ],
 "metadata": {
  "language_info": {
   "name": "python"
  }
 },
 "nbformat": 4,
 "nbformat_minor": 2
}
